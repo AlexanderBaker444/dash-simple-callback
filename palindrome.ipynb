{
 "cells": [
  {
   "cell_type": "markdown",
   "metadata": {},
   "source": [
    "https://codereview.stackexchange.com/questions/25679/create-palindrome-by-rearranging-letters-of-a-word"
   ]
  },
  {
   "cell_type": "code",
   "execution_count": 10,
   "metadata": {},
   "outputs": [],
   "source": [
    "from collections import deque, Counter\n",
    "\n",
    "\n",
    "def palindrome_from(letters):\n",
    "    \"\"\"\n",
    "    Forms a palindrome by rearranging :letters: if possible,\n",
    "    throwing a :ValueError: otherwise.\n",
    "    :param letters: a suitable iterable, usually a string\n",
    "    :return: a string containing a palindrome\n",
    "    \"\"\"\n",
    "    counter = Counter(letters)\n",
    "    sides = []\n",
    "    center = deque()\n",
    "    for letter, occurrences in counter.items():\n",
    "        repetitions, odd_count = divmod(occurrences, 2)\n",
    "        if not odd_count:\n",
    "            sides.append(letter * repetitions)\n",
    "            continue\n",
    "        if center:\n",
    "            return \"no palindrome exists for '{}'\".format(letters)\n",
    "        center.append(letter * occurrences)\n",
    "    center.extendleft(sides)\n",
    "    center.extend(sides)\n",
    "    return ''.join(center)"
   ]
  },
  {
   "cell_type": "code",
   "execution_count": 17,
   "metadata": {},
   "outputs": [],
   "source": [
    "letters = \"cattac\""
   ]
  },
  {
   "cell_type": "code",
   "execution_count": 18,
   "metadata": {},
   "outputs": [
    {
     "data": {
      "text/plain": [
       "'taccat'"
      ]
     },
     "execution_count": 18,
     "metadata": {},
     "output_type": "execute_result"
    }
   ],
   "source": [
    "palindrome_from(letters)"
   ]
  },
  {
   "cell_type": "code",
   "execution_count": null,
   "metadata": {},
   "outputs": [],
   "source": []
  }
 ],
 "metadata": {
  "kernelspec": {
   "display_name": "Python 3",
   "language": "python",
   "name": "python3"
  },
  "language_info": {
   "codemirror_mode": {
    "name": "ipython",
    "version": 3
   },
   "file_extension": ".py",
   "mimetype": "text/x-python",
   "name": "python",
   "nbconvert_exporter": "python",
   "pygments_lexer": "ipython3",
   "version": "3.7.3"
  }
 },
 "nbformat": 4,
 "nbformat_minor": 2
}
